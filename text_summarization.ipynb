{
 "cells": [
  {
   "cell_type": "code",
   "execution_count": 1,
   "id": "128a50d7",
   "metadata": {},
   "outputs": [
    {
     "name": "stdout",
     "output_type": "stream",
     "text": [
      "Collecting spacy\n",
      "  Downloading spacy-3.0.6-cp38-cp38-win_amd64.whl (11.9 MB)\n",
      "Collecting murmurhash<1.1.0,>=0.28.0\n",
      "  Downloading murmurhash-1.0.5-cp38-cp38-win_amd64.whl (21 kB)\n",
      "Requirement already satisfied: setuptools in c:\\users\\aarchi.shah\\anaconda3\\lib\\site-packages (from spacy) (52.0.0.post20210125)\n",
      "Collecting wasabi<1.1.0,>=0.8.1\n",
      "  Using cached wasabi-0.8.2-py3-none-any.whl (23 kB)\n",
      "Collecting blis<0.8.0,>=0.4.0\n",
      "  Downloading blis-0.7.4-cp38-cp38-win_amd64.whl (6.5 MB)\n",
      "Collecting pydantic<1.8.0,>=1.7.1\n",
      "  Downloading pydantic-1.7.4-cp38-cp38-win_amd64.whl (1.8 MB)\n",
      "Collecting thinc<8.1.0,>=8.0.3\n",
      "  Downloading thinc-8.0.3-cp38-cp38-win_amd64.whl (1.0 MB)\n",
      "Requirement already satisfied: tqdm<5.0.0,>=4.38.0 in c:\\users\\aarchi.shah\\anaconda3\\lib\\site-packages (from spacy) (4.59.0)\n",
      "Requirement already satisfied: packaging>=20.0 in c:\\users\\aarchi.shah\\anaconda3\\lib\\site-packages (from spacy) (20.9)\n",
      "Collecting srsly<3.0.0,>=2.4.1\n",
      "  Downloading srsly-2.4.1-cp38-cp38-win_amd64.whl (451 kB)\n",
      "Collecting spacy-legacy<3.1.0,>=3.0.4\n",
      "  Using cached spacy_legacy-3.0.5-py2.py3-none-any.whl (12 kB)\n",
      "Collecting preshed<3.1.0,>=3.0.2\n",
      "  Downloading preshed-3.0.5-cp38-cp38-win_amd64.whl (112 kB)\n",
      "Collecting cymem<2.1.0,>=2.0.2\n",
      "  Downloading cymem-2.0.5-cp38-cp38-win_amd64.whl (36 kB)\n",
      "Requirement already satisfied: numpy>=1.15.0 in c:\\users\\aarchi.shah\\anaconda3\\lib\\site-packages (from spacy) (1.20.1)\n",
      "Requirement already satisfied: requests<3.0.0,>=2.13.0 in c:\\users\\aarchi.shah\\anaconda3\\lib\\site-packages (from spacy) (2.25.1)\n",
      "Collecting typer<0.4.0,>=0.3.0\n",
      "  Using cached typer-0.3.2-py3-none-any.whl (21 kB)\n",
      "Collecting pathy>=0.3.5\n",
      "  Using cached pathy-0.5.2-py3-none-any.whl (42 kB)\n",
      "Requirement already satisfied: jinja2 in c:\\users\\aarchi.shah\\anaconda3\\lib\\site-packages (from spacy) (2.11.3)\n",
      "Collecting catalogue<2.1.0,>=2.0.3\n",
      "  Using cached catalogue-2.0.4-py3-none-any.whl (16 kB)\n",
      "Requirement already satisfied: pyparsing>=2.0.2 in c:\\users\\aarchi.shah\\anaconda3\\lib\\site-packages (from packaging>=20.0->spacy) (2.4.7)\n",
      "Collecting smart-open<4.0.0,>=2.2.0\n",
      "  Using cached smart_open-3.0.0.tar.gz (113 kB)\n",
      "Requirement already satisfied: idna<3,>=2.5 in c:\\users\\aarchi.shah\\anaconda3\\lib\\site-packages (from requests<3.0.0,>=2.13.0->spacy) (2.10)\n",
      "Requirement already satisfied: certifi>=2017.4.17 in c:\\users\\aarchi.shah\\anaconda3\\lib\\site-packages (from requests<3.0.0,>=2.13.0->spacy) (2020.12.5)\n",
      "Requirement already satisfied: chardet<5,>=3.0.2 in c:\\users\\aarchi.shah\\anaconda3\\lib\\site-packages (from requests<3.0.0,>=2.13.0->spacy) (4.0.0)\n",
      "Requirement already satisfied: urllib3<1.27,>=1.21.1 in c:\\users\\aarchi.shah\\anaconda3\\lib\\site-packages (from requests<3.0.0,>=2.13.0->spacy) (1.26.4)\n",
      "Requirement already satisfied: click<7.2.0,>=7.1.1 in c:\\users\\aarchi.shah\\anaconda3\\lib\\site-packages (from typer<0.4.0,>=0.3.0->spacy) (7.1.2)\n",
      "Requirement already satisfied: MarkupSafe>=0.23 in c:\\users\\aarchi.shah\\anaconda3\\lib\\site-packages (from jinja2->spacy) (1.1.1)\n",
      "Building wheels for collected packages: smart-open\n",
      "  Building wheel for smart-open (setup.py): started\n",
      "  Building wheel for smart-open (setup.py): finished with status 'done'\n",
      "  Created wheel for smart-open: filename=smart_open-3.0.0-py3-none-any.whl size=107097 sha256=cc04416f67cb0491686985ccc7b331e2bc03dcd599584da5120a2031b18f1d15\n",
      "  Stored in directory: c:\\users\\aarchi.shah\\appdata\\local\\pip\\cache\\wheels\\11\\73\\9a\\f91ac1f1816436b16423617c5be5db048697ff152a9c4346f2\n",
      "Successfully built smart-open\n",
      "Installing collected packages: murmurhash, cymem, catalogue, wasabi, typer, srsly, smart-open, pydantic, preshed, blis, thinc, spacy-legacy, pathy, spacy\n",
      "Successfully installed blis-0.7.4 catalogue-2.0.4 cymem-2.0.5 murmurhash-1.0.5 pathy-0.5.2 preshed-3.0.5 pydantic-1.7.4 smart-open-3.0.0 spacy-3.0.6 spacy-legacy-3.0.5 srsly-2.4.1 thinc-8.0.3 typer-0.3.2 wasabi-0.8.2\n"
     ]
    }
   ],
   "source": [
    "!pip install -U spacy"
   ]
  },
  {
   "cell_type": "code",
   "execution_count": 2,
   "id": "463208b3",
   "metadata": {},
   "outputs": [
    {
     "name": "stdout",
     "output_type": "stream",
     "text": [
      "Collecting en-core-web-sm==3.0.0\n",
      "  Downloading https://github.com/explosion/spacy-models/releases/download/en_core_web_sm-3.0.0/en_core_web_sm-3.0.0-py3-none-any.whl (13.7 MB)\n",
      "Requirement already satisfied: spacy<3.1.0,>=3.0.0 in c:\\users\\aarchi.shah\\anaconda3\\lib\\site-packages (from en-core-web-sm==3.0.0) (3.0.6)\n",
      "Requirement already satisfied: jinja2 in c:\\users\\aarchi.shah\\anaconda3\\lib\\site-packages (from spacy<3.1.0,>=3.0.0->en-core-web-sm==3.0.0) (2.11.3)\n",
      "Requirement already satisfied: wasabi<1.1.0,>=0.8.1 in c:\\users\\aarchi.shah\\anaconda3\\lib\\site-packages (from spacy<3.1.0,>=3.0.0->en-core-web-sm==3.0.0) (0.8.2)\n",
      "Requirement already satisfied: thinc<8.1.0,>=8.0.3 in c:\\users\\aarchi.shah\\anaconda3\\lib\\site-packages (from spacy<3.1.0,>=3.0.0->en-core-web-sm==3.0.0) (8.0.3)\n",
      "Requirement already satisfied: catalogue<2.1.0,>=2.0.3 in c:\\users\\aarchi.shah\\anaconda3\\lib\\site-packages (from spacy<3.1.0,>=3.0.0->en-core-web-sm==3.0.0) (2.0.4)\n",
      "Requirement already satisfied: tqdm<5.0.0,>=4.38.0 in c:\\users\\aarchi.shah\\anaconda3\\lib\\site-packages (from spacy<3.1.0,>=3.0.0->en-core-web-sm==3.0.0) (4.59.0)\n",
      "Requirement already satisfied: pydantic<1.8.0,>=1.7.1 in c:\\users\\aarchi.shah\\anaconda3\\lib\\site-packages (from spacy<3.1.0,>=3.0.0->en-core-web-sm==3.0.0) (1.7.4)\n",
      "Requirement already satisfied: murmurhash<1.1.0,>=0.28.0 in c:\\users\\aarchi.shah\\anaconda3\\lib\\site-packages (from spacy<3.1.0,>=3.0.0->en-core-web-sm==3.0.0) (1.0.5)\n",
      "Requirement already satisfied: preshed<3.1.0,>=3.0.2 in c:\\users\\aarchi.shah\\anaconda3\\lib\\site-packages (from spacy<3.1.0,>=3.0.0->en-core-web-sm==3.0.0) (3.0.5)\n",
      "Requirement already satisfied: numpy>=1.15.0 in c:\\users\\aarchi.shah\\anaconda3\\lib\\site-packages (from spacy<3.1.0,>=3.0.0->en-core-web-sm==3.0.0) (1.20.1)\n",
      "Requirement already satisfied: srsly<3.0.0,>=2.4.1 in c:\\users\\aarchi.shah\\anaconda3\\lib\\site-packages (from spacy<3.1.0,>=3.0.0->en-core-web-sm==3.0.0) (2.4.1)\n",
      "Requirement already satisfied: blis<0.8.0,>=0.4.0 in c:\\users\\aarchi.shah\\anaconda3\\lib\\site-packages (from spacy<3.1.0,>=3.0.0->en-core-web-sm==3.0.0) (0.7.4)\n",
      "Requirement already satisfied: cymem<2.1.0,>=2.0.2 in c:\\users\\aarchi.shah\\anaconda3\\lib\\site-packages (from spacy<3.1.0,>=3.0.0->en-core-web-sm==3.0.0) (2.0.5)\n",
      "Requirement already satisfied: requests<3.0.0,>=2.13.0 in c:\\users\\aarchi.shah\\anaconda3\\lib\\site-packages (from spacy<3.1.0,>=3.0.0->en-core-web-sm==3.0.0) (2.25.1)\n",
      "Requirement already satisfied: packaging>=20.0 in c:\\users\\aarchi.shah\\anaconda3\\lib\\site-packages (from spacy<3.1.0,>=3.0.0->en-core-web-sm==3.0.0) (20.9)\n",
      "Requirement already satisfied: typer<0.4.0,>=0.3.0 in c:\\users\\aarchi.shah\\anaconda3\\lib\\site-packages (from spacy<3.1.0,>=3.0.0->en-core-web-sm==3.0.0) (0.3.2)\n",
      "Requirement already satisfied: spacy-legacy<3.1.0,>=3.0.4 in c:\\users\\aarchi.shah\\anaconda3\\lib\\site-packages (from spacy<3.1.0,>=3.0.0->en-core-web-sm==3.0.0) (3.0.5)\n",
      "Requirement already satisfied: pathy>=0.3.5 in c:\\users\\aarchi.shah\\anaconda3\\lib\\site-packages (from spacy<3.1.0,>=3.0.0->en-core-web-sm==3.0.0) (0.5.2)\n",
      "Requirement already satisfied: setuptools in c:\\users\\aarchi.shah\\anaconda3\\lib\\site-packages (from spacy<3.1.0,>=3.0.0->en-core-web-sm==3.0.0) (52.0.0.post20210125)\n",
      "Requirement already satisfied: pyparsing>=2.0.2 in c:\\users\\aarchi.shah\\anaconda3\\lib\\site-packages (from packaging>=20.0->spacy<3.1.0,>=3.0.0->en-core-web-sm==3.0.0) (2.4.7)\n",
      "Requirement already satisfied: smart-open<4.0.0,>=2.2.0 in c:\\users\\aarchi.shah\\anaconda3\\lib\\site-packages (from pathy>=0.3.5->spacy<3.1.0,>=3.0.0->en-core-web-sm==3.0.0) (3.0.0)\n",
      "Requirement already satisfied: idna<3,>=2.5 in c:\\users\\aarchi.shah\\anaconda3\\lib\\site-packages (from requests<3.0.0,>=2.13.0->spacy<3.1.0,>=3.0.0->en-core-web-sm==3.0.0) (2.10)\n",
      "Requirement already satisfied: chardet<5,>=3.0.2 in c:\\users\\aarchi.shah\\anaconda3\\lib\\site-packages (from requests<3.0.0,>=2.13.0->spacy<3.1.0,>=3.0.0->en-core-web-sm==3.0.0) (4.0.0)\n",
      "Requirement already satisfied: certifi>=2017.4.17 in c:\\users\\aarchi.shah\\anaconda3\\lib\\site-packages (from requests<3.0.0,>=2.13.0->spacy<3.1.0,>=3.0.0->en-core-web-sm==3.0.0) (2020.12.5)\n",
      "Requirement already satisfied: urllib3<1.27,>=1.21.1 in c:\\users\\aarchi.shah\\anaconda3\\lib\\site-packages (from requests<3.0.0,>=2.13.0->spacy<3.1.0,>=3.0.0->en-core-web-sm==3.0.0) (1.26.4)\n",
      "Requirement already satisfied: click<7.2.0,>=7.1.1 in c:\\users\\aarchi.shah\\anaconda3\\lib\\site-packages (from typer<0.4.0,>=0.3.0->spacy<3.1.0,>=3.0.0->en-core-web-sm==3.0.0) (7.1.2)\n",
      "Requirement already satisfied: MarkupSafe>=0.23 in c:\\users\\aarchi.shah\\anaconda3\\lib\\site-packages (from jinja2->spacy<3.1.0,>=3.0.0->en-core-web-sm==3.0.0) (1.1.1)\n",
      "Installing collected packages: en-core-web-sm\n",
      "Successfully installed en-core-web-sm-3.0.0\n",
      "[+] Download and installation successful\n",
      "You can now load the package via spacy.load('en_core_web_sm')\n"
     ]
    }
   ],
   "source": [
    "!python -m spacy download en_core_web_sm"
   ]
  },
  {
   "cell_type": "code",
   "execution_count": 3,
   "id": "68440647",
   "metadata": {},
   "outputs": [],
   "source": [
    "import spacy\n",
    "from spacy.lang.en.stop_words import STOP_WORDS\n",
    "from string import punctuation"
   ]
  },
  {
   "cell_type": "code",
   "execution_count": 4,
   "id": "724929a8",
   "metadata": {},
   "outputs": [],
   "source": [
    "stopwords = list(STOP_WORDS)"
   ]
  },
  {
   "cell_type": "code",
   "execution_count": 5,
   "id": "b8f111a3",
   "metadata": {},
   "outputs": [],
   "source": [
    "nlp = spacy.load('en_core_web_sm')"
   ]
  },
  {
   "cell_type": "code",
   "execution_count": 8,
   "id": "6c9db1aa",
   "metadata": {},
   "outputs": [],
   "source": [
    "text=''' Delhi Chief Minister Arvind Kejriwal today announced the setting up of a paediatric task force and two genome sequencing labs as well as a plan to ramp up oxygen capacity to prepare for a possible third Covid wave that could peak at 37,000 cases a day.\n",
    "The government will also create a buffer stock of important medicines, Mr Kejriwal said at an online briefing.\n",
    "\n",
    "The two genome sequencing labs to identify variants of the virus attacking the city will come up at the Lok Nayak Jai Prakash Hospital and the Institute of Liver and Biliary Sciences (ILBS), the Chief Minister said.\n",
    "\n",
    "He said he held a six-hour meeting with officials and experts on Friday to prepare a comprehensive plan for a third wave of COVID-19.\n",
    "\n",
    "In case the number of daily infections hits 37,000 during the third wave, the government will.be prepared.\n",
    "\n",
    "\"At the peak of the second wave, 28,000 cases were reported on one day. On the basis of our consultation with experts, we are assuming that during the peak of the third wave, there might be 37,000 cases. Keeping this number in mind, we will ramp up our beds, oxygen capacity and medicines,\" he said.\n",
    "\n",
    "The government is buying 25 oxygen tankers and putting up 64 oxygen plants in the next few weeks to ensure Delhi doesn't face another oxygen crisis as it did during the second wave, he said.\n",
    "\n",
    "Delhi is not an industrial state and doesn't have its own tankers but we are buying 25 tankers in order to prepare for the third wave.\n",
    "\n",
    "\"We are creating an oxygen storage capacity of 420 tonnes to tackle the possibility of another oxygen crisis. We have spoken to Indraprastha Gas Limited and asked them to create a 150-tonne oxygen production plant,\" the Chief Mminister added.\n",
    "\n",
    "The government will also be setting up a separate paediatric task force to give recommendations on protecting children during the third wave.\n",
    "\n",
    "Based on their advice, the government will set up ICU and oxygen beds, and procure specific equipment for children, he said.\n",
    "\n",
    "Besides, the government will also create a buffer stock of important medicines and private hospitals will also be given instructions to do so, he said.\n",
    "\n",
    "\"We will create a team of doctors and experts to assess which medicines are required for coronavirus. If they inform us about a particular medicine being effective in the treatment of the virus, we will try and procure it. In case they say a medicine does not help in the treatment, we will make people aware about it,\" he added.\n",
    "\n",
    "On May 27, the Delhi government set up a 13-member committee to prepare an action plan for a possible third wave after assessing the current status and projected requirement of health infrastructure such as hospitals, oxygen plants and drug supplies.\n",
    "\n",
    "Another eight-member expert committee was set up to devise a strategy for mitigation and management of the third wave.\n",
    "\n",
    "Delhi has been reeling under a brutal second wave of the pandemic that has swept the country and claimed a massive number of lives. The acute shortage of oxygen at various hospitals added to the crisis.\n",
    "\n",
    "From April 19, both daily cases and the single-day death count rose sharply with over 28,000 cases and 277 deaths recorded on April 20. This went up to 306 fatalities on April 22. On May 3, the city registered a record 448 deaths, according to official data.\n",
    "\n",
    "The number of cases has shown a downward trend and the positivity rate too has been shrinking in the last several days. The number of deaths per day, has also been showing a decline in the last couple of days.'''"
   ]
  },
  {
   "cell_type": "code",
   "execution_count": 9,
   "id": "5d8849f0",
   "metadata": {},
   "outputs": [],
   "source": [
    "doc = nlp(text)"
   ]
  },
  {
   "cell_type": "code",
   "execution_count": 10,
   "id": "f20eac89",
   "metadata": {},
   "outputs": [
    {
     "name": "stdout",
     "output_type": "stream",
     "text": [
      "[' ', 'Delhi', 'Chief', 'Minister', 'Arvind', 'Kejriwal', 'today', 'announced', 'the', 'setting', 'up', 'of', 'a', 'paediatric', 'task', 'force', 'and', 'two', 'genome', 'sequencing', 'labs', 'as', 'well', 'as', 'a', 'plan', 'to', 'ramp', 'up', 'oxygen', 'capacity', 'to', 'prepare', 'for', 'a', 'possible', 'third', 'Covid', 'wave', 'that', 'could', 'peak', 'at', '37,000', 'cases', 'a', 'day', '.', '\\n', 'The', 'government', 'will', 'also', 'create', 'a', 'buffer', 'stock', 'of', 'important', 'medicines', ',', 'Mr', 'Kejriwal', 'said', 'at', 'an', 'online', 'briefing', '.', '\\n\\n', 'The', 'two', 'genome', 'sequencing', 'labs', 'to', 'identify', 'variants', 'of', 'the', 'virus', 'attacking', 'the', 'city', 'will', 'come', 'up', 'at', 'the', 'Lok', 'Nayak', 'Jai', 'Prakash', 'Hospital', 'and', 'the', 'Institute', 'of', 'Liver', 'and', 'Biliary', 'Sciences', '(', 'ILBS', ')', ',', 'the', 'Chief', 'Minister', 'said', '.', '\\n\\n', 'He', 'said', 'he', 'held', 'a', 'six', '-', 'hour', 'meeting', 'with', 'officials', 'and', 'experts', 'on', 'Friday', 'to', 'prepare', 'a', 'comprehensive', 'plan', 'for', 'a', 'third', 'wave', 'of', 'COVID-19', '.', '\\n\\n', 'In', 'case', 'the', 'number', 'of', 'daily', 'infections', 'hits', '37,000', 'during', 'the', 'third', 'wave', ',', 'the', 'government', 'will.be', 'prepared', '.', '\\n\\n', '\"', 'At', 'the', 'peak', 'of', 'the', 'second', 'wave', ',', '28,000', 'cases', 'were', 'reported', 'on', 'one', 'day', '.', 'On', 'the', 'basis', 'of', 'our', 'consultation', 'with', 'experts', ',', 'we', 'are', 'assuming', 'that', 'during', 'the', 'peak', 'of', 'the', 'third', 'wave', ',', 'there', 'might', 'be', '37,000', 'cases', '.', 'Keeping', 'this', 'number', 'in', 'mind', ',', 'we', 'will', 'ramp', 'up', 'our', 'beds', ',', 'oxygen', 'capacity', 'and', 'medicines', ',', '\"', 'he', 'said', '.', '\\n\\n', 'The', 'government', 'is', 'buying', '25', 'oxygen', 'tankers', 'and', 'putting', 'up', '64', 'oxygen', 'plants', 'in', 'the', 'next', 'few', 'weeks', 'to', 'ensure', 'Delhi', 'does', \"n't\", 'face', 'another', 'oxygen', 'crisis', 'as', 'it', 'did', 'during', 'the', 'second', 'wave', ',', 'he', 'said', '.', '\\n\\n', 'Delhi', 'is', 'not', 'an', 'industrial', 'state', 'and', 'does', \"n't\", 'have', 'its', 'own', 'tankers', 'but', 'we', 'are', 'buying', '25', 'tankers', 'in', 'order', 'to', 'prepare', 'for', 'the', 'third', 'wave', '.', '\\n\\n', '\"', 'We', 'are', 'creating', 'an', 'oxygen', 'storage', 'capacity', 'of', '420', 'tonnes', 'to', 'tackle', 'the', 'possibility', 'of', 'another', 'oxygen', 'crisis', '.', 'We', 'have', 'spoken', 'to', 'Indraprastha', 'Gas', 'Limited', 'and', 'asked', 'them', 'to', 'create', 'a', '150', '-', 'tonne', 'oxygen', 'production', 'plant', ',', '\"', 'the', 'Chief', 'Mminister', 'added', '.', '\\n\\n', 'The', 'government', 'will', 'also', 'be', 'setting', 'up', 'a', 'separate', 'paediatric', 'task', 'force', 'to', 'give', 'recommendations', 'on', 'protecting', 'children', 'during', 'the', 'third', 'wave', '.', '\\n\\n', 'Based', 'on', 'their', 'advice', ',', 'the', 'government', 'will', 'set', 'up', 'ICU', 'and', 'oxygen', 'beds', ',', 'and', 'procure', 'specific', 'equipment', 'for', 'children', ',', 'he', 'said', '.', '\\n\\n', 'Besides', ',', 'the', 'government', 'will', 'also', 'create', 'a', 'buffer', 'stock', 'of', 'important', 'medicines', 'and', 'private', 'hospitals', 'will', 'also', 'be', 'given', 'instructions', 'to', 'do', 'so', ',', 'he', 'said', '.', '\\n\\n', '\"', 'We', 'will', 'create', 'a', 'team', 'of', 'doctors', 'and', 'experts', 'to', 'assess', 'which', 'medicines', 'are', 'required', 'for', 'coronavirus', '.', 'If', 'they', 'inform', 'us', 'about', 'a', 'particular', 'medicine', 'being', 'effective', 'in', 'the', 'treatment', 'of', 'the', 'virus', ',', 'we', 'will', 'try', 'and', 'procure', 'it', '.', 'In', 'case', 'they', 'say', 'a', 'medicine', 'does', 'not', 'help', 'in', 'the', 'treatment', ',', 'we', 'will', 'make', 'people', 'aware', 'about', 'it', ',', '\"', 'he', 'added', '.', '\\n\\n', 'On', 'May', '27', ',', 'the', 'Delhi', 'government', 'set', 'up', 'a', '13', '-', 'member', 'committee', 'to', 'prepare', 'an', 'action', 'plan', 'for', 'a', 'possible', 'third', 'wave', 'after', 'assessing', 'the', 'current', 'status', 'and', 'projected', 'requirement', 'of', 'health', 'infrastructure', 'such', 'as', 'hospitals', ',', 'oxygen', 'plants', 'and', 'drug', 'supplies', '.', '\\n\\n', 'Another', 'eight', '-', 'member', 'expert', 'committee', 'was', 'set', 'up', 'to', 'devise', 'a', 'strategy', 'for', 'mitigation', 'and', 'management', 'of', 'the', 'third', 'wave', '.', '\\n\\n', 'Delhi', 'has', 'been', 'reeling', 'under', 'a', 'brutal', 'second', 'wave', 'of', 'the', 'pandemic', 'that', 'has', 'swept', 'the', 'country', 'and', 'claimed', 'a', 'massive', 'number', 'of', 'lives', '.', 'The', 'acute', 'shortage', 'of', 'oxygen', 'at', 'various', 'hospitals', 'added', 'to', 'the', 'crisis', '.', '\\n\\n', 'From', 'April', '19', ',', 'both', 'daily', 'cases', 'and', 'the', 'single', '-', 'day', 'death', 'count', 'rose', 'sharply', 'with', 'over', '28,000', 'cases', 'and', '277', 'deaths', 'recorded', 'on', 'April', '20', '.', 'This', 'went', 'up', 'to', '306', 'fatalities', 'on', 'April', '22', '.', 'On', 'May', '3', ',', 'the', 'city', 'registered', 'a', 'record', '448', 'deaths', ',', 'according', 'to', 'official', 'data', '.', '\\n\\n', 'The', 'number', 'of', 'cases', 'has', 'shown', 'a', 'downward', 'trend', 'and', 'the', 'positivity', 'rate', 'too', 'has', 'been', 'shrinking', 'in', 'the', 'last', 'several', 'days', '.', 'The', 'number', 'of', 'deaths', 'per', 'day', ',', 'has', 'also', 'been', 'showing', 'a', 'decline', 'in', 'the', 'last', 'couple', 'of', 'days', '.']\n"
     ]
    }
   ],
   "source": [
    "tokens = [token.text for token in doc]\n",
    "print(tokens)"
   ]
  },
  {
   "cell_type": "code",
   "execution_count": 11,
   "id": "1482f101",
   "metadata": {},
   "outputs": [
    {
     "data": {
      "text/plain": [
       "'!\"#$%&\\'()*+,-./:;<=>?@[\\\\]^_`{|}~\\n'"
      ]
     },
     "execution_count": 11,
     "metadata": {},
     "output_type": "execute_result"
    }
   ],
   "source": [
    "punctuation = punctuation + '\\n'\n",
    "punctuation"
   ]
  },
  {
   "cell_type": "code",
   "execution_count": 14,
   "id": "e4bbfda9",
   "metadata": {},
   "outputs": [],
   "source": [
    "word_frequencies = {}\n",
    "for word in doc:\n",
    "    if word.text.lower() not in stopwords:\n",
    "        if word.text.lower() not in punctuation:\n",
    "            if word.text not in word_frequencies.keys():\n",
    "                word_frequencies[word.text] = 1\n",
    "            else:\n",
    "                word_frequencies[word.text] += 1"
   ]
  },
  {
   "cell_type": "code",
   "execution_count": 15,
   "id": "2ed5fa5f",
   "metadata": {},
   "outputs": [
    {
     "name": "stdout",
     "output_type": "stream",
     "text": [
      "{' ': 1, 'Delhi': 5, 'Chief': 3, 'Minister': 2, 'Arvind': 1, 'Kejriwal': 2, 'today': 1, 'announced': 1, 'setting': 2, 'paediatric': 2, 'task': 2, 'force': 2, 'genome': 2, 'sequencing': 2, 'labs': 2, 'plan': 3, 'ramp': 2, 'oxygen': 11, 'capacity': 3, 'prepare': 4, 'possible': 2, 'Covid': 1, 'wave': 11, 'peak': 3, '37,000': 3, 'cases': 6, 'day': 4, 'government': 7, 'create': 4, 'buffer': 2, 'stock': 2, 'important': 2, 'medicines': 4, 'Mr': 1, 'said': 7, 'online': 1, 'briefing': 1, '\\n\\n': 16, 'identify': 1, 'variants': 1, 'virus': 2, 'attacking': 1, 'city': 2, 'come': 1, 'Lok': 1, 'Nayak': 1, 'Jai': 1, 'Prakash': 1, 'Hospital': 1, 'Institute': 1, 'Liver': 1, 'Biliary': 1, 'Sciences': 1, 'ILBS': 1, 'held': 1, 'hour': 1, 'meeting': 1, 'officials': 1, 'experts': 3, 'Friday': 1, 'comprehensive': 1, 'COVID-19': 1, 'case': 2, 'number': 5, 'daily': 2, 'infections': 1, 'hits': 1, 'will.be': 1, 'prepared': 1, 'second': 3, '28,000': 2, 'reported': 1, 'basis': 1, 'consultation': 1, 'assuming': 1, 'Keeping': 1, 'mind': 1, 'beds': 2, 'buying': 2, '25': 2, 'tankers': 3, 'putting': 1, '64': 1, 'plants': 2, 'weeks': 1, 'ensure': 1, 'face': 1, 'crisis': 3, 'industrial': 1, 'state': 1, 'order': 1, 'creating': 1, 'storage': 1, '420': 1, 'tonnes': 1, 'tackle': 1, 'possibility': 1, 'spoken': 1, 'Indraprastha': 1, 'Gas': 1, 'Limited': 1, 'asked': 1, '150': 1, 'tonne': 1, 'production': 1, 'plant': 1, 'Mminister': 1, 'added': 3, 'separate': 1, 'recommendations': 1, 'protecting': 1, 'children': 2, 'Based': 1, 'advice': 1, 'set': 3, 'ICU': 1, 'procure': 2, 'specific': 1, 'equipment': 1, 'private': 1, 'hospitals': 3, 'given': 1, 'instructions': 1, 'team': 1, 'doctors': 1, 'assess': 1, 'required': 1, 'coronavirus': 1, 'inform': 1, 'particular': 1, 'medicine': 2, 'effective': 1, 'treatment': 2, 'try': 1, 'help': 1, 'people': 1, 'aware': 1, '27': 1, '13': 1, 'member': 2, 'committee': 2, 'action': 1, 'assessing': 1, 'current': 1, 'status': 1, 'projected': 1, 'requirement': 1, 'health': 1, 'infrastructure': 1, 'drug': 1, 'supplies': 1, 'expert': 1, 'devise': 1, 'strategy': 1, 'mitigation': 1, 'management': 1, 'reeling': 1, 'brutal': 1, 'pandemic': 1, 'swept': 1, 'country': 1, 'claimed': 1, 'massive': 1, 'lives': 1, 'acute': 1, 'shortage': 1, 'April': 3, '19': 1, 'single': 1, 'death': 1, 'count': 1, 'rose': 1, 'sharply': 1, '277': 1, 'deaths': 3, 'recorded': 1, '20': 1, 'went': 1, '306': 1, 'fatalities': 1, '22': 1, '3': 1, 'registered': 1, 'record': 1, '448': 1, 'according': 1, 'official': 1, 'data': 1, 'shown': 1, 'downward': 1, 'trend': 1, 'positivity': 1, 'rate': 1, 'shrinking': 1, 'days': 2, 'showing': 1, 'decline': 1, 'couple': 1}\n"
     ]
    }
   ],
   "source": [
    "print(word_frequencies)"
   ]
  },
  {
   "cell_type": "code",
   "execution_count": 18,
   "id": "82e018f5",
   "metadata": {},
   "outputs": [],
   "source": [
    "max_frequency = max(word_frequencies.values())"
   ]
  },
  {
   "cell_type": "code",
   "execution_count": 19,
   "id": "4f5ffcaa",
   "metadata": {},
   "outputs": [
    {
     "data": {
      "text/plain": [
       "16"
      ]
     },
     "execution_count": 19,
     "metadata": {},
     "output_type": "execute_result"
    }
   ],
   "source": [
    "max_frequency"
   ]
  },
  {
   "cell_type": "code",
   "execution_count": 29,
   "id": "ab3f9ca4",
   "metadata": {},
   "outputs": [
    {
     "name": "stdout",
     "output_type": "stream",
     "text": [
      "{' ': 0.0625, 'Delhi': 0.3125, 'Chief': 0.1875, 'Minister': 0.125, 'Arvind': 0.0625, 'Kejriwal': 0.125, 'today': 0.0625, 'announced': 0.0625, 'setting': 0.125, 'paediatric': 0.125, 'task': 0.125, 'force': 0.125, 'genome': 0.125, 'sequencing': 0.125, 'labs': 0.125, 'plan': 0.1875, 'ramp': 0.125, 'oxygen': 0.6875, 'capacity': 0.1875, 'prepare': 0.25, 'possible': 0.125, 'Covid': 0.0625, 'wave': 0.6875, 'peak': 0.1875, '37,000': 0.1875, 'cases': 0.375, 'day': 0.25, 'government': 0.4375, 'create': 0.25, 'buffer': 0.125, 'stock': 0.125, 'important': 0.125, 'medicines': 0.25, 'Mr': 0.0625, 'said': 0.4375, 'online': 0.0625, 'briefing': 0.0625, '\\n\\n': 1.0, 'identify': 0.0625, 'variants': 0.0625, 'virus': 0.125, 'attacking': 0.0625, 'city': 0.125, 'come': 0.0625, 'Lok': 0.0625, 'Nayak': 0.0625, 'Jai': 0.0625, 'Prakash': 0.0625, 'Hospital': 0.0625, 'Institute': 0.0625, 'Liver': 0.0625, 'Biliary': 0.0625, 'Sciences': 0.0625, 'ILBS': 0.0625, 'held': 0.0625, 'hour': 0.0625, 'meeting': 0.0625, 'officials': 0.0625, 'experts': 0.1875, 'Friday': 0.0625, 'comprehensive': 0.0625, 'COVID-19': 0.0625, 'case': 0.125, 'number': 0.3125, 'daily': 0.125, 'infections': 0.0625, 'hits': 0.0625, 'will.be': 0.0625, 'prepared': 0.0625, 'second': 0.1875, '28,000': 0.125, 'reported': 0.0625, 'basis': 0.0625, 'consultation': 0.0625, 'assuming': 0.0625, 'Keeping': 0.0625, 'mind': 0.0625, 'beds': 0.125, 'buying': 0.125, '25': 0.125, 'tankers': 0.1875, 'putting': 0.0625, '64': 0.0625, 'plants': 0.125, 'weeks': 0.0625, 'ensure': 0.0625, 'face': 0.0625, 'crisis': 0.1875, 'industrial': 0.0625, 'state': 0.0625, 'order': 0.0625, 'creating': 0.0625, 'storage': 0.0625, '420': 0.0625, 'tonnes': 0.0625, 'tackle': 0.0625, 'possibility': 0.0625, 'spoken': 0.0625, 'Indraprastha': 0.0625, 'Gas': 0.0625, 'Limited': 0.0625, 'asked': 0.0625, '150': 0.0625, 'tonne': 0.0625, 'production': 0.0625, 'plant': 0.0625, 'Mminister': 0.0625, 'added': 0.1875, 'separate': 0.0625, 'recommendations': 0.0625, 'protecting': 0.0625, 'children': 0.125, 'Based': 0.0625, 'advice': 0.0625, 'set': 0.1875, 'ICU': 0.0625, 'procure': 0.125, 'specific': 0.0625, 'equipment': 0.0625, 'private': 0.0625, 'hospitals': 0.1875, 'given': 0.0625, 'instructions': 0.0625, 'team': 0.0625, 'doctors': 0.0625, 'assess': 0.0625, 'required': 0.0625, 'coronavirus': 0.0625, 'inform': 0.0625, 'particular': 0.0625, 'medicine': 0.125, 'effective': 0.0625, 'treatment': 0.125, 'try': 0.0625, 'help': 0.0625, 'people': 0.0625, 'aware': 0.0625, '27': 0.0625, '13': 0.0625, 'member': 0.125, 'committee': 0.125, 'action': 0.0625, 'assessing': 0.0625, 'current': 0.0625, 'status': 0.0625, 'projected': 0.0625, 'requirement': 0.0625, 'health': 0.0625, 'infrastructure': 0.0625, 'drug': 0.0625, 'supplies': 0.0625, 'expert': 0.0625, 'devise': 0.0625, 'strategy': 0.0625, 'mitigation': 0.0625, 'management': 0.0625, 'reeling': 0.0625, 'brutal': 0.0625, 'pandemic': 0.0625, 'swept': 0.0625, 'country': 0.0625, 'claimed': 0.0625, 'massive': 0.0625, 'lives': 0.0625, 'acute': 0.0625, 'shortage': 0.0625, 'April': 0.1875, '19': 0.0625, 'single': 0.0625, 'death': 0.0625, 'count': 0.0625, 'rose': 0.0625, 'sharply': 0.0625, '277': 0.0625, 'deaths': 0.1875, 'recorded': 0.0625, '20': 0.0625, 'went': 0.0625, '306': 0.0625, 'fatalities': 0.0625, '22': 0.0625, '3': 0.0625, 'registered': 0.0625, 'record': 0.0625, '448': 0.0625, 'according': 0.0625, 'official': 0.0625, 'data': 0.0625, 'shown': 0.0625, 'downward': 0.0625, 'trend': 0.0625, 'positivity': 0.0625, 'rate': 0.0625, 'shrinking': 0.0625, 'days': 0.125, 'showing': 0.0625, 'decline': 0.0625, 'couple': 0.0625}\n"
     ]
    }
   ],
   "source": [
    "for word in word_frequencies.keys():\n",
    "    word_frequencies[word] = word_frequencies[word]/max_frequency\n",
    "print(word_frequencies)"
   ]
  },
  {
   "cell_type": "code",
   "execution_count": 30,
   "id": "c6c2d6ee",
   "metadata": {},
   "outputs": [
    {
     "name": "stdout",
     "output_type": "stream",
     "text": [
      "[ , Delhi Chief Minister Arvind Kejriwal today announced the setting up of a paediatric task force and two genome sequencing labs as well as a plan to ramp up oxygen capacity to prepare for a possible third Covid wave that could peak at 37,000 cases a day., \n",
      ", The government will also create a buffer stock of important medicines, Mr Kejriwal said at an online briefing., \n",
      "\n",
      ", The two genome sequencing labs to identify variants of the virus attacking the city will come up at the Lok Nayak Jai Prakash Hospital and the Institute of Liver and Biliary Sciences (ILBS), the Chief Minister said., \n",
      "\n",
      ", He said he held a six-hour meeting with officials and experts on Friday to prepare a comprehensive plan for a third wave of COVID-19., \n",
      "\n",
      ", In case the number of daily infections hits 37,000 during the third wave, the government will.be prepared., \n",
      "\n",
      "\"At the peak of the second wave, 28,000 cases were reported on one day., On the basis of our consultation with experts, we are assuming that during the peak of the third wave, there might be 37,000 cases., Keeping this number in mind, we will ramp up our beds, oxygen capacity and medicines,\" he said., \n",
      "\n",
      "The government is buying 25 oxygen tankers and putting up 64 oxygen plants in the next few weeks to ensure Delhi doesn't face another oxygen crisis as it did during the second wave, he said., \n",
      "\n",
      "Delhi is not an industrial state and doesn't have its own tankers but we are buying 25 tankers in order to prepare for the third wave., \n",
      "\n",
      "\"We are creating an oxygen storage capacity of 420 tonnes to tackle the possibility of another oxygen crisis., We have spoken to Indraprastha Gas Limited and asked them to create a 150-tonne oxygen production plant,\" the Chief Mminister added., \n",
      "\n",
      "The government will also be setting up a separate paediatric task force to give recommendations on protecting children during the third wave., \n",
      "\n",
      ", Based on their advice, the government will set up ICU and oxygen beds, and procure specific equipment for children, he said., \n",
      "\n",
      "Besides, the government will also create a buffer stock of important medicines and private hospitals will also be given instructions to do so, he said., \n",
      "\n",
      "\"We will create a team of doctors and experts to assess which medicines are required for coronavirus., If they inform us about a particular medicine being effective in the treatment of the virus, we will try and procure it., In case they say a medicine does not help in the treatment, we will make people aware about it,\" he added., \n",
      "\n",
      ", On May 27, the Delhi government set up a 13-member committee to prepare an action plan for a possible third wave after assessing the current status and projected requirement of health infrastructure such as hospitals, oxygen plants and drug supplies., \n",
      "\n",
      "Another eight-member expert committee was set up to devise a strategy for mitigation and management of the third wave., \n",
      "\n",
      "Delhi has been reeling under a brutal second wave of the pandemic that has swept the country and claimed a massive number of lives., The acute shortage of oxygen at various hospitals added to the crisis., \n",
      "\n",
      "From April 19, , both daily cases and the single-day death count rose sharply with over 28,000 cases and 277 deaths recorded on April 20., This went up to 306 fatalities on April 22., On May 3, the city registered a record 448 deaths, according to official data., \n",
      "\n",
      "The number of cases has shown a downward trend and the positivity rate too has been shrinking in the last several days., The number of deaths per day, has also been showing a decline in the last couple of days.]\n"
     ]
    }
   ],
   "source": [
    "sentence_tokens = [sent for sent in doc.sents]\n",
    "print(sentence_tokens)\n"
   ]
  },
  {
   "cell_type": "code",
   "execution_count": 33,
   "id": "b0dcb9c6",
   "metadata": {},
   "outputs": [],
   "source": [
    "sentence_scores = {}\n",
    "for sent in sentence_tokens:\n",
    "    for word in sent:\n",
    "        if word.text.lower() in word_frequencies.keys():\n",
    "            if sent not in sentence_scores.keys():\n",
    "                sentence_scores[sent] = word_frequencies[word.text.lower()]\n",
    "            else:\n",
    "                sentence_scores[sent] += word_frequencies[word.text.lower()]\n",
    "                "
   ]
  },
  {
   "cell_type": "code",
   "execution_count": 34,
   "id": "6634356d",
   "metadata": {},
   "outputs": [
    {
     "data": {
      "text/plain": [
       "{ : 0.0625,\n",
       " Delhi Chief Minister Arvind Kejriwal today announced the setting up of a paediatric task force and two genome sequencing labs as well as a plan to ramp up oxygen capacity to prepare for a possible third Covid wave that could peak at 37,000 cases a day.: 4.25,\n",
       " The government will also create a buffer stock of important medicines, Mr Kejriwal said at an online briefing.: 1.875,\n",
       " \n",
       " : 1.0,\n",
       " The two genome sequencing labs to identify variants of the virus attacking the city will come up at the Lok Nayak Jai Prakash Hospital and the Institute of Liver and Biliary Sciences (ILBS), the Chief Minister said.: 1.3125,\n",
       " \n",
       " : 1.0,\n",
       " He said he held a six-hour meeting with officials and experts on Friday to prepare a comprehensive plan for a third wave of COVID-19.: 2.0625,\n",
       " \n",
       " : 1.0,\n",
       " In case the number of daily infections hits 37,000 during the third wave, the government will.be prepared.: 2.125,\n",
       " \n",
       " \n",
       " \"At the peak of the second wave, 28,000 cases were reported on one day.: 2.875,\n",
       " On the basis of our consultation with experts, we are assuming that during the peak of the third wave, there might be 37,000 cases.: 1.8125,\n",
       " Keeping this number in mind, we will ramp up our beds, oxygen capacity and medicines,\" he said.: 2.1875,\n",
       " \n",
       " \n",
       " The government is buying 25 oxygen tankers and putting up 64 oxygen plants in the next few weeks to ensure Delhi doesn't face another oxygen crisis as it did during the second wave, he said.: 5.875,\n",
       " \n",
       " \n",
       " Delhi is not an industrial state and doesn't have its own tankers but we are buying 25 tankers in order to prepare for the third wave.: 2.75,\n",
       " \n",
       " \n",
       " \"We are creating an oxygen storage capacity of 420 tonnes to tackle the possibility of another oxygen crisis.: 3.125,\n",
       " We have spoken to Indraprastha Gas Limited and asked them to create a 150-tonne oxygen production plant,\" the Chief Mminister added.: 1.5,\n",
       " \n",
       " \n",
       " The government will also be setting up a separate paediatric task force to give recommendations on protecting children during the third wave.: 2.9375,\n",
       " \n",
       " : 1.0,\n",
       " Based on their advice, the government will set up ICU and oxygen beds, and procure specific equipment for children, he said.: 2.3125,\n",
       " \n",
       " \n",
       " Besides, the government will also create a buffer stock of important medicines and private hospitals will also be given instructions to do so, he said.: 3.125,\n",
       " \n",
       " \n",
       " \"We will create a team of doctors and experts to assess which medicines are required for coronavirus.: 2.0,\n",
       " If they inform us about a particular medicine being effective in the treatment of the virus, we will try and procure it.: 0.75,\n",
       " In case they say a medicine does not help in the treatment, we will make people aware about it,\" he added.: 0.75,\n",
       " \n",
       " : 1.0,\n",
       " On May 27, the Delhi government set up a 13-member committee to prepare an action plan for a possible third wave after assessing the current status and projected requirement of health infrastructure such as hospitals, oxygen plants and drug supplies.: 3.875,\n",
       " \n",
       " \n",
       " Another eight-member expert committee was set up to devise a strategy for mitigation and management of the third wave.: 2.4375,\n",
       " \n",
       " \n",
       " Delhi has been reeling under a brutal second wave of the pandemic that has swept the country and claimed a massive number of lives.: 2.6875,\n",
       " The acute shortage of oxygen at various hospitals added to the crisis.: 1.375,\n",
       " \n",
       " \n",
       " From April 19: 1.0625,\n",
       " , both daily cases and the single-day death count rose sharply with over 28,000 cases and 277 deaths recorded on April 20.: 1.9375,\n",
       " This went up to 306 fatalities on April 22.: 0.25,\n",
       " On May 3, the city registered a record 448 deaths, according to official data.: 0.75,\n",
       " \n",
       " \n",
       " The number of cases has shown a downward trend and the positivity rate too has been shrinking in the last several days.: 2.1875,\n",
       " The number of deaths per day, has also been showing a decline in the last couple of days.: 1.0625}"
      ]
     },
     "execution_count": 34,
     "metadata": {},
     "output_type": "execute_result"
    }
   ],
   "source": [
    "sentence_scores"
   ]
  },
  {
   "cell_type": "code",
   "execution_count": 35,
   "id": "de80f78a",
   "metadata": {},
   "outputs": [],
   "source": [
    "from heapq import nlargest"
   ]
  },
  {
   "cell_type": "code",
   "execution_count": 51,
   "id": "afe4e4bd",
   "metadata": {},
   "outputs": [
    {
     "data": {
      "text/plain": [
       "10"
      ]
     },
     "execution_count": 51,
     "metadata": {},
     "output_type": "execute_result"
    }
   ],
   "source": [
    "select_length = int(len(sentence_tokens)*0.3) #30percent\n",
    "select_length\n"
   ]
  },
  {
   "cell_type": "code",
   "execution_count": 52,
   "id": "b7eab36e",
   "metadata": {},
   "outputs": [],
   "source": [
    "summary = nlargest(select_length, sentence_scores, key = sentence_scores.get)"
   ]
  },
  {
   "cell_type": "code",
   "execution_count": 53,
   "id": "172ffc01",
   "metadata": {},
   "outputs": [
    {
     "data": {
      "text/plain": [
       "[\n",
       " \n",
       " The government is buying 25 oxygen tankers and putting up 64 oxygen plants in the next few weeks to ensure Delhi doesn't face another oxygen crisis as it did during the second wave, he said.,\n",
       " Delhi Chief Minister Arvind Kejriwal today announced the setting up of a paediatric task force and two genome sequencing labs as well as a plan to ramp up oxygen capacity to prepare for a possible third Covid wave that could peak at 37,000 cases a day.,\n",
       " On May 27, the Delhi government set up a 13-member committee to prepare an action plan for a possible third wave after assessing the current status and projected requirement of health infrastructure such as hospitals, oxygen plants and drug supplies.,\n",
       " \n",
       " \n",
       " \"We are creating an oxygen storage capacity of 420 tonnes to tackle the possibility of another oxygen crisis.,\n",
       " \n",
       " \n",
       " Besides, the government will also create a buffer stock of important medicines and private hospitals will also be given instructions to do so, he said.,\n",
       " \n",
       " \n",
       " The government will also be setting up a separate paediatric task force to give recommendations on protecting children during the third wave.,\n",
       " \n",
       " \n",
       " \"At the peak of the second wave, 28,000 cases were reported on one day.,\n",
       " \n",
       " \n",
       " Delhi is not an industrial state and doesn't have its own tankers but we are buying 25 tankers in order to prepare for the third wave.,\n",
       " \n",
       " \n",
       " Delhi has been reeling under a brutal second wave of the pandemic that has swept the country and claimed a massive number of lives.,\n",
       " \n",
       " \n",
       " Another eight-member expert committee was set up to devise a strategy for mitigation and management of the third wave.]"
      ]
     },
     "execution_count": 53,
     "metadata": {},
     "output_type": "execute_result"
    }
   ],
   "source": [
    "summary"
   ]
  },
  {
   "cell_type": "code",
   "execution_count": 54,
   "id": "6db6c2fa",
   "metadata": {},
   "outputs": [],
   "source": [
    "final_summary = [word.text for word in summary]"
   ]
  },
  {
   "cell_type": "code",
   "execution_count": 55,
   "id": "43032587",
   "metadata": {},
   "outputs": [
    {
     "data": {
      "text/plain": [
       "'\\n\\nThe government is buying 25 oxygen tankers and putting up 64 oxygen plants in the next few weeks to ensure Delhi doesn\\'t face another oxygen crisis as it did during the second wave, he said. Delhi Chief Minister Arvind Kejriwal today announced the setting up of a paediatric task force and two genome sequencing labs as well as a plan to ramp up oxygen capacity to prepare for a possible third Covid wave that could peak at 37,000 cases a day. On May 27, the Delhi government set up a 13-member committee to prepare an action plan for a possible third wave after assessing the current status and projected requirement of health infrastructure such as hospitals, oxygen plants and drug supplies. \\n\\n\"We are creating an oxygen storage capacity of 420 tonnes to tackle the possibility of another oxygen crisis. \\n\\nBesides, the government will also create a buffer stock of important medicines and private hospitals will also be given instructions to do so, he said. \\n\\nThe government will also be setting up a separate paediatric task force to give recommendations on protecting children during the third wave. \\n\\n\"At the peak of the second wave, 28,000 cases were reported on one day. \\n\\nDelhi is not an industrial state and doesn\\'t have its own tankers but we are buying 25 tankers in order to prepare for the third wave. \\n\\nDelhi has been reeling under a brutal second wave of the pandemic that has swept the country and claimed a massive number of lives. \\n\\nAnother eight-member expert committee was set up to devise a strategy for mitigation and management of the third wave.'"
      ]
     },
     "execution_count": 55,
     "metadata": {},
     "output_type": "execute_result"
    }
   ],
   "source": [
    "summary = ' '.join(final_summary)\n",
    "summary"
   ]
  }
 ],
 "metadata": {
  "kernelspec": {
   "display_name": "Python 3",
   "language": "python",
   "name": "python3"
  },
  "language_info": {
   "codemirror_mode": {
    "name": "ipython",
    "version": 3
   },
   "file_extension": ".py",
   "mimetype": "text/x-python",
   "name": "python",
   "nbconvert_exporter": "python",
   "pygments_lexer": "ipython3",
   "version": "3.8.8"
  }
 },
 "nbformat": 4,
 "nbformat_minor": 5
}
